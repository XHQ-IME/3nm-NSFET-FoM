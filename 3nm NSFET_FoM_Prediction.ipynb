{
 "cells": [
  {
   "cell_type": "markdown",
   "metadata": {},
   "source": [
    "# 3nm Nanosheet Figure of Merit Prediction"
   ]
  },
  {
   "cell_type": "markdown",
   "metadata": {},
   "source": [
    "Created on Oct 30 2020\n",
    "\n",
    "@author: Haoqing Xu @ICAC, IMECAS"
   ]
  },
  {
   "cell_type": "markdown",
   "metadata": {},
   "source": [
    "This project focus on 3nm nanosheet FoM prediction with Multiple Layer Perceptron"
   ]
  },
  {
   "cell_type": "markdown",
   "metadata": {},
   "source": [
    "# Import packages"
   ]
  },
  {
   "cell_type": "code",
   "execution_count": 1,
   "metadata": {
    "collapsed": true
   },
   "outputs": [],
   "source": [
    "import torch\n",
    "from torch import nn\n",
    "import torch.optim as optim\n",
    "import torch.nn.functional as F\n",
    "from torch.autograd import Variable\n",
    "from torch.utils.data import Dataset, DataLoader\n",
    "from sklearn.preprocessing import StandardScaler\n",
    "\n",
    "import matplotlib.pyplot as plt\n",
    "import numpy as np\n",
    "import pandas as pd"
   ]
  },
  {
   "cell_type": "markdown",
   "metadata": {},
   "source": [
    "# Data Loading"
   ]
  },
  {
   "cell_type": "code",
   "execution_count": 20,
   "metadata": {
    "scrolled": true
   },
   "outputs": [
    {
     "name": "stdout",
     "output_type": "stream",
     "text": [
      "(1968, 7)\n",
      "The size of dataset is (1968, 7)\n",
      "Shape and Type of x_train: torch.Size([1400, 3]) torch.float64\n",
      "Shape and Type of y_train: torch.Size([1400, 4]) torch.float64\n",
      "Shape and Type of x_test: torch.Size([568, 3]) torch.float64\n",
      "Shape and Type of y_test: torch.Size([568, 4]) torch.float64\n"
     ]
    }
   ],
   "source": [
    "data = np.loadtxt(\"data.csv\",dtype=\"float\",delimiter=',', skiprows=1, usecols=None, unpack=False)\n",
    "\n",
    "print(data.shape)\n",
    "print(\"The size of dataset is\", data.shape)\n",
    "\n",
    "x_train = data[:1400,:3]\n",
    "y_train = data[:1400, 3:]\n",
    "x_test = data[1400:,:3]\n",
    "y_test = data[1400:, 3:]\n",
    "\n",
    "x_train = StandardScaler().fit_transform(x_train)\n",
    "y_train = StandardScaler().fit_transform(y_train)\n",
    "x_test = StandardScaler().fit_transform(x_test)\n",
    "y_test = StandardScaler().fit_transform(y_test)\n",
    "\n",
    "x_train = torch.tensor(x_train)\n",
    "y_train = torch.tensor(y_train)\n",
    "x_test = torch.tensor(x_test)\n",
    "y_test = torch.tensor(y_test)\n",
    "\n",
    "print('Shape and Type of x_train:', x_train.shape, x_train.dtype)\n",
    "print('Shape and Type of y_train:', y_train.shape, y_train.dtype)\n",
    "print('Shape and Type of x_test:', x_test.shape, x_test.dtype)\n",
    "print('Shape and Type of y_test:', y_test.shape, y_test.dtype)"
   ]
  },
  {
   "cell_type": "code",
   "execution_count": 3,
   "metadata": {
    "collapsed": true
   },
   "outputs": [],
   "source": [
    "x_train = Variable(x_train)\n",
    "y_train = Variable(y_train)\n",
    "x_test = Variable(x_test)\n",
    "y_test = Variable(y_test)"
   ]
  },
  {
   "cell_type": "code",
   "execution_count": 4,
   "metadata": {
    "collapsed": true
   },
   "outputs": [],
   "source": [
    "class Dataset(Dataset):\n",
    "    def __init__(self,x,y):\n",
    "        self.x=x\n",
    "        self.y=y\n",
    "\n",
    "    def __getitem__(self,index):\n",
    "        return self.x[index], self.y[index]\n",
    "  \n",
    "    def __len__(self):\n",
    "        return len(self.x)"
   ]
  },
  {
   "cell_type": "code",
   "execution_count": 5,
   "metadata": {},
   "outputs": [
    {
     "name": "stdout",
     "output_type": "stream",
     "text": [
      "torch.Size([1400, 3]) torch.Size([1400, 4]) torch.Size([568, 3]) torch.Size([568, 4])\n"
     ]
    }
   ],
   "source": [
    "dataset_train = Dataset(x_train, y_train)\n",
    "dataset_test = Dataset(x_test, y_test)\n",
    "\n",
    "print(dataset_train.x.shape, dataset_train.y.shape, dataset_test.x.shape, dataset_test.y.shape)"
   ]
  },
  {
   "cell_type": "markdown",
   "metadata": {
    "scrolled": true
   },
   "source": [
    "# Neural Network Building"
   ]
  },
  {
   "cell_type": "markdown",
   "metadata": {},
   "source": [
    "Define the Network Structure"
   ]
  },
  {
   "cell_type": "code",
   "execution_count": 6,
   "metadata": {
    "collapsed": true
   },
   "outputs": [],
   "source": [
    "class MLP(nn.Module):\n",
    "    def __init__(self):\n",
    "        super(MLP, self).__init__()\n",
    "        self.fc1 = nn.Linear(3, 25, bias = True) #x.shape=[1968,3], x.shape[1]=3\n",
    "        self.fc2 = nn.Linear(25, 20, bias = True)\n",
    "        self.fc3 = nn.Linear(20, 4, bias = True)\n",
    "        self.sigmoid = nn.Sigmoid()\n",
    "\n",
    "    def forward(self, x):\n",
    "        out = self.fc1(x)\n",
    "        out = self.sigmoid(out)\n",
    "        out = self.fc2(out)\n",
    "        out = self.sigmoid(out)\n",
    "        out = self.fc3(out)\n",
    "        out = self.sigmoid(out)\n",
    "        return out"
   ]
  },
  {
   "cell_type": "markdown",
   "metadata": {},
   "source": [
    "# Hyper-Parameter and Training Settings "
   ]
  },
  {
   "cell_type": "code",
   "execution_count": 7,
   "metadata": {
    "scrolled": false
   },
   "outputs": [],
   "source": [
    "BATCH_SIZE = 8\n",
    "EPOCHS = 500\n",
    "LR = 5e-4\n",
    "\n",
    "model = MLP()\n",
    "\n",
    "#optimizer = optim.RMSprop(model.parameters(), lr=LR)\n",
    "#optimizer = optim.SGD(model.parameters(), lr=LR, momentum=0.9)\n",
    "optimizer = optim.Adam(model.parameters(), lr=LR)"
   ]
  },
  {
   "cell_type": "code",
   "execution_count": 8,
   "metadata": {},
   "outputs": [
    {
     "name": "stdout",
     "output_type": "stream",
     "text": [
      "Let's use 2 GPUs!\n",
      "DataParallel(\n",
      "  (module): MLP(\n",
      "    (fc1): Linear(in_features=3, out_features=25, bias=True)\n",
      "    (fc2): Linear(in_features=25, out_features=20, bias=True)\n",
      "    (fc3): Linear(in_features=20, out_features=4, bias=True)\n",
      "    (sigmoid): Sigmoid()\n",
      "  )\n",
      ")\n"
     ]
    }
   ],
   "source": [
    "import os\n",
    "\n",
    "DEVICE = torch.device('cuda:0' if torch.cuda.is_available() else 'cpu')\n",
    "#For multiple GPU usage \n",
    "if torch.cuda.device_count() > 1:\n",
    "    print(\"Let's use\", torch.cuda.device_count(), \"GPUs!\")\n",
    "    model = nn.DataParallel(model, device_ids = [0,1]).cuda()\n",
    "\n",
    "model = model.to(DEVICE)\n",
    "print(model)"
   ]
  },
  {
   "cell_type": "code",
   "execution_count": 9,
   "metadata": {
    "collapsed": true
   },
   "outputs": [],
   "source": [
    "train_loader= torch.utils.data.DataLoader(dataset=dataset_train, batch_size=BATCH_SIZE, shuffle=True)\n",
    "test_loader= torch.utils.data.DataLoader(dataset=dataset_test, batch_size=BATCH_SIZE, shuffle=True)"
   ]
  },
  {
   "cell_type": "markdown",
   "metadata": {},
   "source": [
    "# Training and Test"
   ]
  },
  {
   "cell_type": "code",
   "execution_count": 10,
   "metadata": {
    "collapsed": true
   },
   "outputs": [],
   "source": [
    "def train(model, device, train_loader, optimizer, epoch):\n",
    "    model.train()\n",
    "    for inputs, labels in train_loader:\n",
    "        inputs = Variable(inputs.float()).to(DEVICE)\n",
    "        labels = Variable(labels.float()).to(DEVICE)\n",
    "        \n",
    "        optimizer.zero_grad()\n",
    "        outputs = model(inputs)\n",
    "        loss = F.mse_loss(outputs, labels)\n",
    "        \n",
    "        #loss_func = nn.L1Loss()\n",
    "        #loss = loss_func(outputs, labels)\n",
    "        # loss = -(labels * torch.log(output)+ (1-labels) * torch.log(1-output)).mean()\n",
    "        loss.backward()\n",
    "        optimizer.step()\n",
    "    #output = (output>0.5).float()\n",
    "    #correct = (output == labels).float().sum()\n",
    "    print(\"Epoch {}/{}, train_loss:{:.4f}, \".format(epoch+1,EPOCHS,loss.item()), end='')"
   ]
  },
  {
   "cell_type": "code",
   "execution_count": 11,
   "metadata": {
    "collapsed": true
   },
   "outputs": [],
   "source": [
    "def test(model, device, test_loader):\n",
    "    model.eval()\n",
    "    test_loss = 0\n",
    "    with torch.no_grad():\n",
    "        for inputs, labels in test_loader:\n",
    "            inputs = Variable(inputs.float()).to(DEVICE)\n",
    "            labels = Variable(labels.float()).to(DEVICE)\n",
    "            outputs = model(inputs)\n",
    "            test_loss += F.mse_loss(outputs, labels, reduction='sum').item()\n",
    "            #pred = torch.tensor([[1] if num[0] >= 0.5 else [0] for num in output]).to(device)\n",
    "            #correct += (pred == target.long()).sum().item()\n",
    "        print('test_loss: {:.4f}'.format(test_loss))"
   ]
  },
  {
   "cell_type": "code",
   "execution_count": 12,
   "metadata": {
    "scrolled": true
   },
   "outputs": [
    {
     "name": "stdout",
     "output_type": "stream",
     "text": [
      "Epoch 1/500, train_loss:0.8072, test_loss: 2425.4607\n",
      "Epoch 2/500, train_loss:0.4299, test_loss: 2325.6183\n",
      "Epoch 3/500, train_loss:0.4952, test_loss: 2295.6061\n",
      "Epoch 4/500, train_loss:0.6115, test_loss: 2283.2326\n",
      "Epoch 5/500, train_loss:1.8204, test_loss: 2276.3481\n",
      "Epoch 6/500, train_loss:0.3382, test_loss: 2271.0592\n",
      "Epoch 7/500, train_loss:0.3704, test_loss: 2265.4515\n",
      "Epoch 8/500, train_loss:1.0081, test_loss: 2257.8342\n",
      "Epoch 9/500, train_loss:0.4964, test_loss: 2244.1451\n",
      "Epoch 10/500, train_loss:0.5862, test_loss: 2215.9542\n",
      "Epoch 11/500, train_loss:0.3074, test_loss: 2159.5697\n",
      "Epoch 12/500, train_loss:1.3599, test_loss: 2059.5254\n",
      "Epoch 13/500, train_loss:4.7832, test_loss: 1958.7790\n",
      "Epoch 14/500, train_loss:0.4444, test_loss: 1900.7926\n",
      "Epoch 15/500, train_loss:0.2777, test_loss: 1864.7249\n",
      "Epoch 16/500, train_loss:4.8057, test_loss: 1832.6175\n",
      "Epoch 17/500, train_loss:0.4116, test_loss: 1812.3148\n",
      "Epoch 18/500, train_loss:0.5553, test_loss: 1801.8592\n",
      "Epoch 19/500, train_loss:0.6742, test_loss: 1795.1409\n",
      "Epoch 20/500, train_loss:0.2250, test_loss: 1786.7734\n",
      "Epoch 21/500, train_loss:0.3677, test_loss: 1783.3469\n",
      "Epoch 22/500, train_loss:0.2982, test_loss: 1780.0180\n",
      "Epoch 23/500, train_loss:0.9843, test_loss: 1770.7191\n",
      "Epoch 24/500, train_loss:0.3829, test_loss: 1765.2554\n",
      "Epoch 25/500, train_loss:0.2688, test_loss: 1758.2166\n",
      "Epoch 26/500, train_loss:1.3432, test_loss: 1758.2205\n",
      "Epoch 27/500, train_loss:0.2889, test_loss: 1759.8081\n",
      "Epoch 28/500, train_loss:0.4846, test_loss: 1767.8661\n",
      "Epoch 29/500, train_loss:1.0315, test_loss: 1758.9583\n",
      "Epoch 30/500, train_loss:1.1097, test_loss: 1753.5123\n",
      "Epoch 31/500, train_loss:0.4350, test_loss: 1745.1816\n",
      "Epoch 32/500, train_loss:0.9090, test_loss: 1747.4913\n",
      "Epoch 33/500, train_loss:2.4978, test_loss: 1744.0463\n",
      "Epoch 34/500, train_loss:3.0537, test_loss: 1751.7399\n",
      "Epoch 35/500, train_loss:1.5735, test_loss: 1747.7992\n",
      "Epoch 36/500, train_loss:1.6132, test_loss: 1757.5709\n",
      "Epoch 37/500, train_loss:0.3254, test_loss: 1748.9766\n",
      "Epoch 38/500, train_loss:6.4884, test_loss: 1747.8773\n",
      "Epoch 39/500, train_loss:0.3292, test_loss: 1736.3066\n",
      "Epoch 40/500, train_loss:0.6929, test_loss: 1744.6327\n",
      "Epoch 41/500, train_loss:7.3716, test_loss: 1736.9732\n",
      "Epoch 42/500, train_loss:0.3258, test_loss: 1744.0951\n",
      "Epoch 43/500, train_loss:0.3307, test_loss: 1744.8847\n",
      "Epoch 44/500, train_loss:0.4440, test_loss: 1745.9704\n",
      "Epoch 45/500, train_loss:0.2540, test_loss: 1744.1024\n",
      "Epoch 46/500, train_loss:0.9278, test_loss: 1747.4920\n",
      "Epoch 47/500, train_loss:0.3854, test_loss: 1746.9764\n",
      "Epoch 48/500, train_loss:1.9925, test_loss: 1741.1070\n",
      "Epoch 49/500, train_loss:0.9189, test_loss: 1748.3939\n",
      "Epoch 50/500, train_loss:0.1995, test_loss: 1745.2603\n",
      "Epoch 51/500, train_loss:0.6050, test_loss: 1749.1863\n",
      "Epoch 52/500, train_loss:0.3098, test_loss: 1738.8051\n",
      "Epoch 53/500, train_loss:0.2856, test_loss: 1743.9946\n",
      "Epoch 54/500, train_loss:0.2892, test_loss: 1753.6507\n",
      "Epoch 55/500, train_loss:0.3791, test_loss: 1752.5664\n",
      "Epoch 56/500, train_loss:0.1924, test_loss: 1751.6961\n",
      "Epoch 57/500, train_loss:0.2102, test_loss: 1753.0406\n",
      "Epoch 58/500, train_loss:0.5822, test_loss: 1761.1090\n",
      "Epoch 59/500, train_loss:2.0524, test_loss: 1767.9958\n",
      "Epoch 60/500, train_loss:0.4127, test_loss: 1778.9742\n",
      "Epoch 61/500, train_loss:0.2870, test_loss: 1786.0619\n",
      "Epoch 62/500, train_loss:0.1938, test_loss: 1787.8319\n",
      "Epoch 63/500, train_loss:0.3835, test_loss: 1798.9345\n",
      "Epoch 64/500, train_loss:0.1956, test_loss: 1789.3900\n",
      "Epoch 65/500, train_loss:0.9041, test_loss: 1795.4250\n",
      "Epoch 66/500, train_loss:0.2368, test_loss: 1788.4786\n",
      "Epoch 67/500, train_loss:8.0519, test_loss: 1793.7517\n",
      "Epoch 68/500, train_loss:0.3306, test_loss: 1790.2715\n",
      "Epoch 69/500, train_loss:0.1851, test_loss: 1795.1707\n",
      "Epoch 70/500, train_loss:0.2076, test_loss: 1790.1246\n",
      "Epoch 71/500, train_loss:0.4599, test_loss: 1781.8661\n",
      "Epoch 72/500, train_loss:0.2905, test_loss: 1786.1791\n",
      "Epoch 73/500, train_loss:0.6856, test_loss: 1784.8200\n",
      "Epoch 74/500, train_loss:0.0831, test_loss: 1780.3696\n",
      "Epoch 75/500, train_loss:0.7270, test_loss: 1777.3328\n",
      "Epoch 76/500, train_loss:0.3529, test_loss: 1786.4851\n",
      "Epoch 77/500, train_loss:0.3414, test_loss: 1784.9879\n",
      "Epoch 78/500, train_loss:0.4257, test_loss: 1771.6520\n",
      "Epoch 79/500, train_loss:0.1245, test_loss: 1777.9533\n",
      "Epoch 80/500, train_loss:0.2504, test_loss: 1778.4495\n",
      "Epoch 81/500, train_loss:0.4097, test_loss: 1781.0915\n",
      "Epoch 82/500, train_loss:0.2128, test_loss: 1778.9214\n",
      "Epoch 83/500, train_loss:0.1484, test_loss: 1781.6969\n",
      "Epoch 84/500, train_loss:0.7505, test_loss: 1780.4653\n",
      "Epoch 85/500, train_loss:0.3756, test_loss: 1776.6682\n",
      "Epoch 86/500, train_loss:0.2890, test_loss: 1791.3773\n",
      "Epoch 87/500, train_loss:0.1595, test_loss: 1789.8628\n",
      "Epoch 88/500, train_loss:0.2367, test_loss: 1788.6118\n",
      "Epoch 89/500, train_loss:0.2104, test_loss: 1796.6108\n",
      "Epoch 90/500, train_loss:0.2998, test_loss: 1802.8532\n",
      "Epoch 91/500, train_loss:0.2496, test_loss: 1799.8443\n",
      "Epoch 92/500, train_loss:0.6498, test_loss: 1799.5656\n",
      "Epoch 93/500, train_loss:1.5997, test_loss: 1797.6971\n",
      "Epoch 94/500, train_loss:0.3086, test_loss: 1803.0590\n",
      "Epoch 95/500, train_loss:0.1581, test_loss: 1806.6619\n",
      "Epoch 96/500, train_loss:0.6063, test_loss: 1798.8202\n",
      "Epoch 97/500, train_loss:0.2123, test_loss: 1794.8769\n",
      "Epoch 98/500, train_loss:0.5957, test_loss: 1801.2935\n",
      "Epoch 99/500, train_loss:0.9353, test_loss: 1795.6077\n",
      "Epoch 100/500, train_loss:1.7806, test_loss: 1799.6041\n",
      "Epoch 101/500, train_loss:8.1303, test_loss: 1801.3463\n",
      "Epoch 102/500, train_loss:4.4603, test_loss: 1796.3617\n",
      "Epoch 103/500, train_loss:0.3040, test_loss: 1805.6797\n",
      "Epoch 104/500, train_loss:0.2281, test_loss: 1805.1728\n",
      "Epoch 105/500, train_loss:0.7987, test_loss: 1806.9976\n",
      "Epoch 106/500, train_loss:0.2863, test_loss: 1784.4664\n",
      "Epoch 107/500, train_loss:0.8065, test_loss: 1812.7445\n",
      "Epoch 108/500, train_loss:1.4590, test_loss: 1805.6888\n",
      "Epoch 109/500, train_loss:0.5905, test_loss: 1795.6484\n",
      "Epoch 110/500, train_loss:0.7854, test_loss: 1811.5233\n",
      "Epoch 111/500, train_loss:0.3177, test_loss: 1808.9351\n",
      "Epoch 112/500, train_loss:0.7819, test_loss: 1801.8229\n",
      "Epoch 113/500, train_loss:0.2926, test_loss: 1790.1759\n",
      "Epoch 114/500, train_loss:0.2470, test_loss: 1791.0260\n",
      "Epoch 115/500, train_loss:0.6645, test_loss: 1795.4957\n",
      "Epoch 116/500, train_loss:0.2231, test_loss: 1788.5375\n",
      "Epoch 117/500, train_loss:0.2998, test_loss: 1781.2713\n",
      "Epoch 118/500, train_loss:2.1092, test_loss: 1794.9262\n",
      "Epoch 119/500, train_loss:0.1664, test_loss: 1783.5486\n",
      "Epoch 120/500, train_loss:0.5659, test_loss: 1785.7453\n",
      "Epoch 121/500, train_loss:0.6901, test_loss: 1779.7456\n",
      "Epoch 122/500, train_loss:0.4450, test_loss: 1784.3269\n",
      "Epoch 123/500, train_loss:0.4530, test_loss: 1795.8317\n",
      "Epoch 124/500, train_loss:0.4380, test_loss: 1776.5567\n",
      "Epoch 125/500, train_loss:0.5247, test_loss: 1771.3106\n",
      "Epoch 126/500, train_loss:0.2067, test_loss: 1770.4587\n",
      "Epoch 127/500, train_loss:0.2318, test_loss: 1767.0109\n",
      "Epoch 128/500, train_loss:1.5938, test_loss: 1781.1772\n",
      "Epoch 129/500, train_loss:0.2663, test_loss: 1781.4653\n",
      "Epoch 130/500, train_loss:0.3118, test_loss: 1765.1301\n",
      "Epoch 131/500, train_loss:6.7881, test_loss: 1767.0594\n",
      "Epoch 132/500, train_loss:2.5905, test_loss: 1769.2435\n",
      "Epoch 133/500, train_loss:0.1791, test_loss: 1771.7475\n",
      "Epoch 134/500, train_loss:0.3283, test_loss: 1762.7294\n",
      "Epoch 135/500, train_loss:0.2838, test_loss: 1771.9914\n",
      "Epoch 136/500, train_loss:0.2696, test_loss: 1763.5948\n",
      "Epoch 137/500, train_loss:0.2948, test_loss: 1754.6112\n",
      "Epoch 138/500, train_loss:0.6812, test_loss: 1746.4073\n",
      "Epoch 139/500, train_loss:0.1642, test_loss: 1758.7739\n",
      "Epoch 140/500, train_loss:2.5997, test_loss: 1747.6779\n",
      "Epoch 141/500, train_loss:0.3598, test_loss: 1759.7281\n",
      "Epoch 142/500, train_loss:0.3145, test_loss: 1752.0372\n",
      "Epoch 143/500, train_loss:2.9812, test_loss: 1745.8623\n",
      "Epoch 144/500, train_loss:0.2174, test_loss: 1746.4503\n",
      "Epoch 145/500, train_loss:0.3099, test_loss: 1762.6991\n",
      "Epoch 146/500, train_loss:0.6782, test_loss: 1760.7254\n",
      "Epoch 147/500, train_loss:1.3617, test_loss: 1738.7838\n",
      "Epoch 148/500, train_loss:0.2510, test_loss: 1736.6226\n",
      "Epoch 149/500, train_loss:1.0003, test_loss: 1739.5208\n",
      "Epoch 150/500, train_loss:5.7792, test_loss: 1750.7240\n",
      "Epoch 151/500, train_loss:0.2615, test_loss: 1745.3197\n"
     ]
    },
    {
     "name": "stdout",
     "output_type": "stream",
     "text": [
      "Epoch 152/500, train_loss:0.2634, test_loss: 1738.2886\n",
      "Epoch 153/500, train_loss:0.1872, test_loss: 1736.8804\n",
      "Epoch 154/500, train_loss:0.3883, test_loss: 1730.3815\n",
      "Epoch 155/500, train_loss:0.1914, test_loss: 1742.3556\n",
      "Epoch 156/500, train_loss:0.1399, test_loss: 1721.3690\n",
      "Epoch 157/500, train_loss:0.7575, test_loss: 1730.1842\n",
      "Epoch 158/500, train_loss:0.2418, test_loss: 1739.3301\n",
      "Epoch 159/500, train_loss:0.2381, test_loss: 1725.4715\n",
      "Epoch 160/500, train_loss:0.4416, test_loss: 1730.8468\n",
      "Epoch 161/500, train_loss:0.2909, test_loss: 1731.6394\n",
      "Epoch 162/500, train_loss:0.4305, test_loss: 1738.0320\n",
      "Epoch 163/500, train_loss:0.2177, test_loss: 1728.6263\n",
      "Epoch 164/500, train_loss:0.1098, test_loss: 1737.4698\n",
      "Epoch 165/500, train_loss:0.2922, test_loss: 1715.3620\n",
      "Epoch 166/500, train_loss:3.0242, test_loss: 1724.1680\n",
      "Epoch 167/500, train_loss:0.5504, test_loss: 1717.3647\n",
      "Epoch 168/500, train_loss:0.7781, test_loss: 1724.3100\n",
      "Epoch 169/500, train_loss:0.3061, test_loss: 1729.8800\n",
      "Epoch 170/500, train_loss:0.4173, test_loss: 1709.4389\n",
      "Epoch 171/500, train_loss:0.1856, test_loss: 1731.6986\n",
      "Epoch 172/500, train_loss:1.3279, test_loss: 1729.7607\n",
      "Epoch 173/500, train_loss:0.1501, test_loss: 1714.5636\n",
      "Epoch 174/500, train_loss:0.1738, test_loss: 1714.6137\n",
      "Epoch 175/500, train_loss:0.5287, test_loss: 1719.1385\n",
      "Epoch 176/500, train_loss:0.1480, test_loss: 1722.8538\n",
      "Epoch 177/500, train_loss:7.6321, test_loss: 1725.6366\n",
      "Epoch 178/500, train_loss:0.4728, test_loss: 1711.5727\n",
      "Epoch 179/500, train_loss:0.2912, test_loss: 1719.2536\n",
      "Epoch 180/500, train_loss:0.2001, test_loss: 1706.3149\n",
      "Epoch 181/500, train_loss:0.1823, test_loss: 1719.0916\n",
      "Epoch 182/500, train_loss:0.5036, test_loss: 1716.7435\n",
      "Epoch 183/500, train_loss:0.3980, test_loss: 1719.4317\n",
      "Epoch 184/500, train_loss:0.2007, test_loss: 1712.7962\n",
      "Epoch 185/500, train_loss:1.1723, test_loss: 1719.8249\n",
      "Epoch 186/500, train_loss:0.3601, test_loss: 1712.2131\n",
      "Epoch 187/500, train_loss:0.2372, test_loss: 1718.9939\n",
      "Epoch 188/500, train_loss:1.4105, test_loss: 1715.9904\n",
      "Epoch 189/500, train_loss:0.4177, test_loss: 1698.6308\n",
      "Epoch 190/500, train_loss:0.1355, test_loss: 1708.6582\n",
      "Epoch 191/500, train_loss:0.6237, test_loss: 1720.3820\n",
      "Epoch 192/500, train_loss:0.2583, test_loss: 1701.1750\n",
      "Epoch 193/500, train_loss:0.5836, test_loss: 1707.4879\n",
      "Epoch 194/500, train_loss:0.2725, test_loss: 1699.5069\n",
      "Epoch 195/500, train_loss:0.7185, test_loss: 1705.6885\n",
      "Epoch 196/500, train_loss:0.3093, test_loss: 1701.6581\n",
      "Epoch 197/500, train_loss:0.1795, test_loss: 1706.3083\n",
      "Epoch 198/500, train_loss:0.2610, test_loss: 1702.8975\n",
      "Epoch 199/500, train_loss:0.3351, test_loss: 1704.8247\n",
      "Epoch 200/500, train_loss:0.9231, test_loss: 1699.9033\n",
      "Epoch 201/500, train_loss:0.3207, test_loss: 1692.8095\n",
      "Epoch 202/500, train_loss:0.4533, test_loss: 1700.4828\n",
      "Epoch 203/500, train_loss:0.2149, test_loss: 1704.6880\n",
      "Epoch 204/500, train_loss:0.1135, test_loss: 1712.8802\n",
      "Epoch 205/500, train_loss:0.7234, test_loss: 1700.0242\n",
      "Epoch 206/500, train_loss:0.2172, test_loss: 1704.3967\n",
      "Epoch 207/500, train_loss:0.1414, test_loss: 1706.6002\n",
      "Epoch 208/500, train_loss:0.2142, test_loss: 1691.5582\n",
      "Epoch 209/500, train_loss:0.1910, test_loss: 1707.8974\n",
      "Epoch 210/500, train_loss:0.3281, test_loss: 1696.2551\n",
      "Epoch 211/500, train_loss:0.3063, test_loss: 1700.2371\n",
      "Epoch 212/500, train_loss:0.5649, test_loss: 1712.1563\n",
      "Epoch 213/500, train_loss:0.9593, test_loss: 1688.4557\n",
      "Epoch 214/500, train_loss:0.1794, test_loss: 1698.9511\n",
      "Epoch 215/500, train_loss:0.1425, test_loss: 1687.6782\n",
      "Epoch 216/500, train_loss:0.2621, test_loss: 1698.7477\n",
      "Epoch 217/500, train_loss:0.2198, test_loss: 1695.3926\n",
      "Epoch 218/500, train_loss:0.1783, test_loss: 1702.3389\n",
      "Epoch 219/500, train_loss:0.1952, test_loss: 1684.9912\n",
      "Epoch 220/500, train_loss:0.2180, test_loss: 1694.1667\n",
      "Epoch 221/500, train_loss:0.3815, test_loss: 1701.9733\n",
      "Epoch 222/500, train_loss:0.2952, test_loss: 1692.8186\n",
      "Epoch 223/500, train_loss:0.2161, test_loss: 1687.4346\n",
      "Epoch 224/500, train_loss:0.1533, test_loss: 1684.6819\n",
      "Epoch 225/500, train_loss:0.2935, test_loss: 1683.4072\n",
      "Epoch 226/500, train_loss:0.2266, test_loss: 1694.7841\n",
      "Epoch 227/500, train_loss:0.2142, test_loss: 1689.2325\n",
      "Epoch 228/500, train_loss:0.1883, test_loss: 1686.7904\n",
      "Epoch 229/500, train_loss:0.1063, test_loss: 1694.7376\n",
      "Epoch 230/500, train_loss:0.1668, test_loss: 1675.9963\n",
      "Epoch 231/500, train_loss:0.1562, test_loss: 1688.1907\n",
      "Epoch 232/500, train_loss:0.2004, test_loss: 1696.3711\n",
      "Epoch 233/500, train_loss:0.2807, test_loss: 1685.9592\n",
      "Epoch 234/500, train_loss:0.9703, test_loss: 1688.0325\n",
      "Epoch 235/500, train_loss:0.2757, test_loss: 1691.0605\n",
      "Epoch 236/500, train_loss:0.1367, test_loss: 1696.7634\n",
      "Epoch 237/500, train_loss:0.3468, test_loss: 1692.7837\n",
      "Epoch 238/500, train_loss:0.7973, test_loss: 1689.1232\n",
      "Epoch 239/500, train_loss:0.2220, test_loss: 1685.3005\n",
      "Epoch 240/500, train_loss:0.1871, test_loss: 1682.2154\n",
      "Epoch 241/500, train_loss:7.9772, test_loss: 1691.8693\n",
      "Epoch 242/500, train_loss:0.2361, test_loss: 1688.7263\n",
      "Epoch 243/500, train_loss:0.1975, test_loss: 1694.4885\n",
      "Epoch 244/500, train_loss:0.2366, test_loss: 1689.0143\n",
      "Epoch 245/500, train_loss:0.2262, test_loss: 1688.6448\n",
      "Epoch 246/500, train_loss:0.4624, test_loss: 1692.5833\n",
      "Epoch 247/500, train_loss:0.8735, test_loss: 1677.6685\n",
      "Epoch 248/500, train_loss:0.2418, test_loss: 1687.4838\n",
      "Epoch 249/500, train_loss:0.1916, test_loss: 1687.7395\n",
      "Epoch 250/500, train_loss:1.1658, test_loss: 1677.4320\n",
      "Epoch 251/500, train_loss:2.6066, test_loss: 1687.0675\n",
      "Epoch 252/500, train_loss:1.1697, test_loss: 1682.1550\n",
      "Epoch 253/500, train_loss:0.2465, test_loss: 1687.5085\n",
      "Epoch 254/500, train_loss:0.3435, test_loss: 1698.1064\n",
      "Epoch 255/500, train_loss:3.8968, test_loss: 1685.3837\n",
      "Epoch 256/500, train_loss:0.3450, test_loss: 1674.9503\n",
      "Epoch 257/500, train_loss:0.1950, test_loss: 1685.9059\n",
      "Epoch 258/500, train_loss:0.1511, test_loss: 1691.0880\n",
      "Epoch 259/500, train_loss:0.2207, test_loss: 1680.8216\n",
      "Epoch 260/500, train_loss:0.2883, test_loss: 1676.5171\n",
      "Epoch 261/500, train_loss:0.9958, test_loss: 1680.1307\n",
      "Epoch 262/500, train_loss:0.1359, test_loss: 1679.8368\n",
      "Epoch 263/500, train_loss:0.0951, test_loss: 1685.7757\n",
      "Epoch 264/500, train_loss:0.1530, test_loss: 1686.7944\n",
      "Epoch 265/500, train_loss:0.2895, test_loss: 1684.6373\n",
      "Epoch 266/500, train_loss:2.3494, test_loss: 1680.2804\n",
      "Epoch 267/500, train_loss:0.4945, test_loss: 1674.6458\n",
      "Epoch 268/500, train_loss:0.6715, test_loss: 1679.3335\n",
      "Epoch 269/500, train_loss:0.2147, test_loss: 1684.8863\n",
      "Epoch 270/500, train_loss:0.1870, test_loss: 1666.6611\n",
      "Epoch 271/500, train_loss:0.4192, test_loss: 1679.4388\n",
      "Epoch 272/500, train_loss:0.3484, test_loss: 1675.4451\n",
      "Epoch 273/500, train_loss:0.2804, test_loss: 1684.7865\n",
      "Epoch 274/500, train_loss:0.2416, test_loss: 1676.7588\n",
      "Epoch 275/500, train_loss:0.2126, test_loss: 1682.6797\n",
      "Epoch 276/500, train_loss:1.2221, test_loss: 1674.2225\n",
      "Epoch 277/500, train_loss:0.1034, test_loss: 1678.5218\n",
      "Epoch 278/500, train_loss:0.1397, test_loss: 1673.4375\n",
      "Epoch 279/500, train_loss:0.2609, test_loss: 1681.7242\n",
      "Epoch 280/500, train_loss:0.2146, test_loss: 1677.2439\n",
      "Epoch 281/500, train_loss:0.2880, test_loss: 1670.0423\n",
      "Epoch 282/500, train_loss:0.2502, test_loss: 1664.9508\n",
      "Epoch 283/500, train_loss:0.1893, test_loss: 1677.7719\n",
      "Epoch 284/500, train_loss:3.9306, test_loss: 1671.8724\n",
      "Epoch 285/500, train_loss:0.2452, test_loss: 1673.5766\n",
      "Epoch 286/500, train_loss:2.2609, test_loss: 1677.8209\n",
      "Epoch 287/500, train_loss:0.1605, test_loss: 1674.3975\n",
      "Epoch 288/500, train_loss:0.2348, test_loss: 1675.4380\n",
      "Epoch 289/500, train_loss:0.1772, test_loss: 1668.7297\n",
      "Epoch 290/500, train_loss:0.1133, test_loss: 1664.0287\n",
      "Epoch 291/500, train_loss:1.0257, test_loss: 1678.2636\n",
      "Epoch 292/500, train_loss:1.0188, test_loss: 1673.7589\n",
      "Epoch 293/500, train_loss:0.1329, test_loss: 1662.3124\n",
      "Epoch 294/500, train_loss:8.0153, test_loss: 1680.1114\n",
      "Epoch 295/500, train_loss:0.2439, test_loss: 1677.9236\n",
      "Epoch 296/500, train_loss:0.7175, test_loss: 1662.5406\n",
      "Epoch 297/500, train_loss:8.1724, test_loss: 1674.3564\n",
      "Epoch 298/500, train_loss:0.8194, test_loss: 1673.3163\n",
      "Epoch 299/500, train_loss:1.1526, test_loss: 1676.6107\n",
      "Epoch 300/500, train_loss:0.2453, test_loss: 1672.3496\n"
     ]
    },
    {
     "name": "stdout",
     "output_type": "stream",
     "text": [
      "Epoch 301/500, train_loss:0.9616, test_loss: 1672.5425\n",
      "Epoch 302/500, train_loss:0.1763, test_loss: 1671.7364\n",
      "Epoch 303/500, train_loss:0.3807, test_loss: 1677.0238\n",
      "Epoch 304/500, train_loss:0.4036, test_loss: 1670.2292\n",
      "Epoch 305/500, train_loss:0.1643, test_loss: 1667.7730\n",
      "Epoch 306/500, train_loss:0.2656, test_loss: 1671.0191\n",
      "Epoch 307/500, train_loss:0.4311, test_loss: 1675.7628\n",
      "Epoch 308/500, train_loss:0.2368, test_loss: 1665.2315\n",
      "Epoch 309/500, train_loss:1.5219, test_loss: 1667.9550\n",
      "Epoch 310/500, train_loss:0.3761, test_loss: 1663.1323\n",
      "Epoch 311/500, train_loss:0.2538, test_loss: 1662.1808\n",
      "Epoch 312/500, train_loss:4.2880, test_loss: 1665.6123\n",
      "Epoch 313/500, train_loss:0.1907, test_loss: 1666.4944\n",
      "Epoch 314/500, train_loss:0.2000, test_loss: 1661.7196\n",
      "Epoch 315/500, train_loss:0.2908, test_loss: 1663.7906\n",
      "Epoch 316/500, train_loss:0.0669, test_loss: 1667.0737\n",
      "Epoch 317/500, train_loss:0.2411, test_loss: 1658.5213\n",
      "Epoch 318/500, train_loss:0.7747, test_loss: 1667.7090\n",
      "Epoch 319/500, train_loss:1.9693, test_loss: 1677.5222\n",
      "Epoch 320/500, train_loss:0.1722, test_loss: 1666.4398\n",
      "Epoch 321/500, train_loss:1.2352, test_loss: 1665.6309\n",
      "Epoch 322/500, train_loss:0.1620, test_loss: 1671.0274\n",
      "Epoch 323/500, train_loss:0.4409, test_loss: 1667.2226\n",
      "Epoch 324/500, train_loss:0.1350, test_loss: 1663.4903\n",
      "Epoch 325/500, train_loss:1.8265, test_loss: 1661.1919\n",
      "Epoch 326/500, train_loss:0.7997, test_loss: 1661.7587\n",
      "Epoch 327/500, train_loss:0.3538, test_loss: 1665.1840\n",
      "Epoch 328/500, train_loss:0.1639, test_loss: 1660.8347\n",
      "Epoch 329/500, train_loss:1.1094, test_loss: 1664.3888\n",
      "Epoch 330/500, train_loss:0.2586, test_loss: 1663.5511\n",
      "Epoch 331/500, train_loss:0.3210, test_loss: 1670.5764\n",
      "Epoch 332/500, train_loss:1.0971, test_loss: 1662.9018\n",
      "Epoch 333/500, train_loss:0.1798, test_loss: 1663.0010\n",
      "Epoch 334/500, train_loss:0.1821, test_loss: 1666.2272\n",
      "Epoch 335/500, train_loss:0.4251, test_loss: 1667.8993\n",
      "Epoch 336/500, train_loss:0.2874, test_loss: 1659.4833\n",
      "Epoch 337/500, train_loss:0.2193, test_loss: 1665.8630\n",
      "Epoch 338/500, train_loss:0.1858, test_loss: 1662.8600\n",
      "Epoch 339/500, train_loss:0.5841, test_loss: 1662.3832\n",
      "Epoch 340/500, train_loss:0.2934, test_loss: 1656.3326\n",
      "Epoch 341/500, train_loss:0.3954, test_loss: 1657.6492\n",
      "Epoch 342/500, train_loss:0.3828, test_loss: 1659.5032\n",
      "Epoch 343/500, train_loss:0.1402, test_loss: 1658.2506\n",
      "Epoch 344/500, train_loss:0.3929, test_loss: 1661.7265\n",
      "Epoch 345/500, train_loss:0.0583, test_loss: 1659.5125\n",
      "Epoch 346/500, train_loss:0.2169, test_loss: 1656.2040\n",
      "Epoch 347/500, train_loss:0.3048, test_loss: 1658.5559\n",
      "Epoch 348/500, train_loss:0.2701, test_loss: 1662.2781\n",
      "Epoch 349/500, train_loss:0.1811, test_loss: 1658.3843\n",
      "Epoch 350/500, train_loss:0.7320, test_loss: 1654.0192\n",
      "Epoch 351/500, train_loss:0.2587, test_loss: 1662.7096\n",
      "Epoch 352/500, train_loss:0.7471, test_loss: 1660.9154\n",
      "Epoch 353/500, train_loss:0.3545, test_loss: 1659.1327\n",
      "Epoch 354/500, train_loss:1.3014, test_loss: 1662.2975\n",
      "Epoch 355/500, train_loss:0.1748, test_loss: 1656.0429\n",
      "Epoch 356/500, train_loss:0.2018, test_loss: 1653.6161\n",
      "Epoch 357/500, train_loss:0.1488, test_loss: 1655.8922\n",
      "Epoch 358/500, train_loss:1.1528, test_loss: 1659.1020\n",
      "Epoch 359/500, train_loss:0.5306, test_loss: 1652.6930\n",
      "Epoch 360/500, train_loss:0.2965, test_loss: 1656.1178\n",
      "Epoch 361/500, train_loss:1.6751, test_loss: 1651.7768\n",
      "Epoch 362/500, train_loss:0.1816, test_loss: 1652.1434\n",
      "Epoch 363/500, train_loss:0.1185, test_loss: 1652.8048\n",
      "Epoch 364/500, train_loss:0.9538, test_loss: 1657.3952\n",
      "Epoch 365/500, train_loss:0.2169, test_loss: 1655.7809\n",
      "Epoch 366/500, train_loss:2.6225, test_loss: 1652.9313\n",
      "Epoch 367/500, train_loss:0.2719, test_loss: 1652.1207\n",
      "Epoch 368/500, train_loss:0.2153, test_loss: 1656.6039\n",
      "Epoch 369/500, train_loss:1.1933, test_loss: 1658.5928\n",
      "Epoch 370/500, train_loss:0.4019, test_loss: 1656.6228\n",
      "Epoch 371/500, train_loss:0.2158, test_loss: 1659.2885\n",
      "Epoch 372/500, train_loss:0.2842, test_loss: 1655.6039\n",
      "Epoch 373/500, train_loss:9.9668, test_loss: 1654.6971\n",
      "Epoch 374/500, train_loss:0.5334, test_loss: 1654.0659\n",
      "Epoch 375/500, train_loss:0.5849, test_loss: 1651.3487\n",
      "Epoch 376/500, train_loss:0.2439, test_loss: 1654.5068\n",
      "Epoch 377/500, train_loss:0.3490, test_loss: 1651.7072\n",
      "Epoch 378/500, train_loss:0.3185, test_loss: 1661.7399\n",
      "Epoch 379/500, train_loss:0.7956, test_loss: 1656.5066\n",
      "Epoch 380/500, train_loss:0.7292, test_loss: 1661.8207\n",
      "Epoch 381/500, train_loss:0.2506, test_loss: 1655.8858\n",
      "Epoch 382/500, train_loss:0.2160, test_loss: 1654.9776\n",
      "Epoch 383/500, train_loss:0.1894, test_loss: 1653.3781\n",
      "Epoch 384/500, train_loss:0.1619, test_loss: 1655.1046\n",
      "Epoch 385/500, train_loss:2.4578, test_loss: 1650.2976\n",
      "Epoch 386/500, train_loss:1.4314, test_loss: 1656.1596\n",
      "Epoch 387/500, train_loss:0.1922, test_loss: 1651.7162\n",
      "Epoch 388/500, train_loss:2.6883, test_loss: 1650.6821\n",
      "Epoch 389/500, train_loss:0.3161, test_loss: 1646.9747\n",
      "Epoch 390/500, train_loss:0.3664, test_loss: 1648.5321\n",
      "Epoch 391/500, train_loss:0.3559, test_loss: 1651.4056\n",
      "Epoch 392/500, train_loss:3.3703, test_loss: 1649.8369\n",
      "Epoch 393/500, train_loss:0.3116, test_loss: 1652.2321\n",
      "Epoch 394/500, train_loss:0.1131, test_loss: 1657.2534\n",
      "Epoch 395/500, train_loss:0.1923, test_loss: 1649.5266\n",
      "Epoch 396/500, train_loss:1.1531, test_loss: 1640.5675\n",
      "Epoch 397/500, train_loss:0.8713, test_loss: 1650.5092\n",
      "Epoch 398/500, train_loss:0.5705, test_loss: 1644.7377\n",
      "Epoch 399/500, train_loss:0.4792, test_loss: 1645.9183\n",
      "Epoch 400/500, train_loss:0.1497, test_loss: 1652.4830\n",
      "Epoch 401/500, train_loss:2.0781, test_loss: 1642.5778\n",
      "Epoch 402/500, train_loss:1.1719, test_loss: 1649.9412\n",
      "Epoch 403/500, train_loss:0.3392, test_loss: 1643.3886\n",
      "Epoch 404/500, train_loss:0.2226, test_loss: 1642.4316\n",
      "Epoch 405/500, train_loss:0.2370, test_loss: 1648.8993\n",
      "Epoch 406/500, train_loss:0.1519, test_loss: 1649.1821\n",
      "Epoch 407/500, train_loss:0.1691, test_loss: 1645.4967\n",
      "Epoch 408/500, train_loss:0.5791, test_loss: 1646.6432\n",
      "Epoch 409/500, train_loss:1.7737, test_loss: 1640.7750\n",
      "Epoch 410/500, train_loss:0.2404, test_loss: 1645.1552\n",
      "Epoch 411/500, train_loss:1.4954, test_loss: 1643.6555\n",
      "Epoch 412/500, train_loss:0.4508, test_loss: 1647.4712\n",
      "Epoch 413/500, train_loss:0.4014, test_loss: 1643.8755\n",
      "Epoch 414/500, train_loss:0.3415, test_loss: 1642.6940\n",
      "Epoch 415/500, train_loss:0.2032, test_loss: 1645.0720\n",
      "Epoch 416/500, train_loss:0.1363, test_loss: 1643.3096\n",
      "Epoch 417/500, train_loss:0.2714, test_loss: 1644.9043\n",
      "Epoch 418/500, train_loss:0.3539, test_loss: 1647.7656\n",
      "Epoch 419/500, train_loss:0.2821, test_loss: 1643.3498\n",
      "Epoch 420/500, train_loss:0.1995, test_loss: 1640.6749\n",
      "Epoch 421/500, train_loss:1.0410, test_loss: 1643.3165\n",
      "Epoch 422/500, train_loss:0.7828, test_loss: 1642.9626\n",
      "Epoch 423/500, train_loss:0.1412, test_loss: 1640.5730\n",
      "Epoch 424/500, train_loss:0.1814, test_loss: 1645.9323\n",
      "Epoch 425/500, train_loss:0.1303, test_loss: 1645.7953\n",
      "Epoch 426/500, train_loss:0.4067, test_loss: 1645.2878\n",
      "Epoch 427/500, train_loss:0.1427, test_loss: 1639.5585\n",
      "Epoch 428/500, train_loss:0.2347, test_loss: 1643.6623\n",
      "Epoch 429/500, train_loss:0.1791, test_loss: 1634.7702\n",
      "Epoch 430/500, train_loss:0.2513, test_loss: 1645.7122\n",
      "Epoch 431/500, train_loss:0.2181, test_loss: 1642.9419\n",
      "Epoch 432/500, train_loss:0.1468, test_loss: 1641.8367\n",
      "Epoch 433/500, train_loss:0.2455, test_loss: 1634.4141\n",
      "Epoch 434/500, train_loss:1.2045, test_loss: 1643.4885\n",
      "Epoch 435/500, train_loss:0.7132, test_loss: 1641.4198\n",
      "Epoch 436/500, train_loss:0.1715, test_loss: 1639.9248\n",
      "Epoch 437/500, train_loss:0.4804, test_loss: 1642.8599\n",
      "Epoch 438/500, train_loss:0.8024, test_loss: 1642.6592\n",
      "Epoch 439/500, train_loss:0.1895, test_loss: 1641.5342\n",
      "Epoch 440/500, train_loss:0.2031, test_loss: 1633.3841\n",
      "Epoch 441/500, train_loss:0.3862, test_loss: 1640.9164\n",
      "Epoch 442/500, train_loss:0.4170, test_loss: 1637.4900\n",
      "Epoch 443/500, train_loss:0.2255, test_loss: 1640.9025\n",
      "Epoch 444/500, train_loss:1.2852, test_loss: 1639.2589\n",
      "Epoch 445/500, train_loss:0.7357, test_loss: 1640.3051\n",
      "Epoch 446/500, train_loss:0.2155, test_loss: 1643.6262\n",
      "Epoch 447/500, train_loss:1.0296, test_loss: 1632.2787\n",
      "Epoch 448/500, train_loss:0.3864, test_loss: 1644.8830\n",
      "Epoch 449/500, train_loss:0.1186, test_loss: 1636.2453\n"
     ]
    },
    {
     "name": "stdout",
     "output_type": "stream",
     "text": [
      "Epoch 450/500, train_loss:0.8843, test_loss: 1642.0310\n",
      "Epoch 451/500, train_loss:0.8119, test_loss: 1638.1401\n",
      "Epoch 452/500, train_loss:0.1334, test_loss: 1634.6419\n",
      "Epoch 453/500, train_loss:0.8189, test_loss: 1630.4835\n",
      "Epoch 454/500, train_loss:0.3456, test_loss: 1638.4708\n",
      "Epoch 455/500, train_loss:0.1954, test_loss: 1638.5096\n",
      "Epoch 456/500, train_loss:1.0676, test_loss: 1633.4070\n",
      "Epoch 457/500, train_loss:4.2853, test_loss: 1639.6017\n",
      "Epoch 458/500, train_loss:1.5860, test_loss: 1634.0896\n",
      "Epoch 459/500, train_loss:0.5206, test_loss: 1635.9989\n",
      "Epoch 460/500, train_loss:0.2829, test_loss: 1632.5872\n",
      "Epoch 461/500, train_loss:0.1796, test_loss: 1634.2239\n",
      "Epoch 462/500, train_loss:4.8751, test_loss: 1637.5766\n",
      "Epoch 463/500, train_loss:1.3035, test_loss: 1635.4206\n",
      "Epoch 464/500, train_loss:3.8045, test_loss: 1638.7720\n",
      "Epoch 465/500, train_loss:0.2604, test_loss: 1632.0863\n",
      "Epoch 466/500, train_loss:0.2389, test_loss: 1634.0705\n",
      "Epoch 467/500, train_loss:0.5520, test_loss: 1635.8168\n",
      "Epoch 468/500, train_loss:0.3827, test_loss: 1629.7360\n",
      "Epoch 469/500, train_loss:0.3024, test_loss: 1632.7126\n",
      "Epoch 470/500, train_loss:0.0866, test_loss: 1637.8769\n",
      "Epoch 471/500, train_loss:0.2831, test_loss: 1632.7908\n",
      "Epoch 472/500, train_loss:0.1246, test_loss: 1631.4862\n",
      "Epoch 473/500, train_loss:0.4053, test_loss: 1633.2324\n",
      "Epoch 474/500, train_loss:1.8838, test_loss: 1631.1376\n",
      "Epoch 475/500, train_loss:0.3392, test_loss: 1635.9059\n",
      "Epoch 476/500, train_loss:0.6782, test_loss: 1633.5893\n",
      "Epoch 477/500, train_loss:0.2533, test_loss: 1637.6594\n",
      "Epoch 478/500, train_loss:0.2098, test_loss: 1634.3012\n",
      "Epoch 479/500, train_loss:0.3041, test_loss: 1633.0161\n",
      "Epoch 480/500, train_loss:0.4657, test_loss: 1632.5546\n",
      "Epoch 481/500, train_loss:0.2836, test_loss: 1637.2303\n",
      "Epoch 482/500, train_loss:0.2201, test_loss: 1639.0221\n",
      "Epoch 483/500, train_loss:0.5812, test_loss: 1634.1855\n",
      "Epoch 484/500, train_loss:0.4300, test_loss: 1632.9255\n",
      "Epoch 485/500, train_loss:0.4242, test_loss: 1633.2421\n",
      "Epoch 486/500, train_loss:0.6311, test_loss: 1637.1634\n",
      "Epoch 487/500, train_loss:0.1398, test_loss: 1636.9072\n",
      "Epoch 488/500, train_loss:1.9889, test_loss: 1633.7493\n",
      "Epoch 489/500, train_loss:0.4694, test_loss: 1633.0730\n",
      "Epoch 490/500, train_loss:0.4123, test_loss: 1633.3369\n",
      "Epoch 491/500, train_loss:0.3322, test_loss: 1629.5468\n",
      "Epoch 492/500, train_loss:0.2135, test_loss: 1634.1627\n",
      "Epoch 493/500, train_loss:0.1905, test_loss: 1635.9526\n",
      "Epoch 494/500, train_loss:0.7539, test_loss: 1628.8720\n",
      "Epoch 495/500, train_loss:0.2887, test_loss: 1629.1538\n",
      "Epoch 496/500, train_loss:0.5257, test_loss: 1631.6696\n",
      "Epoch 497/500, train_loss:1.5779, test_loss: 1631.5867\n",
      "Epoch 498/500, train_loss:0.7845, test_loss: 1630.5600\n",
      "Epoch 499/500, train_loss:0.3995, test_loss: 1630.4303\n",
      "Epoch 500/500, train_loss:0.1977, test_loss: 1627.2572\n"
     ]
    }
   ],
   "source": [
    "for epoch in range(EPOCHS):\n",
    "    train(model, DEVICE, train_loader, optimizer, epoch)\n",
    "    test(model, DEVICE, test_loader)"
   ]
  },
  {
   "cell_type": "markdown",
   "metadata": {
    "collapsed": true
   },
   "source": [
    "The below are codes for checking GPUs."
   ]
  },
  {
   "cell_type": "code",
   "execution_count": 13,
   "metadata": {},
   "outputs": [
    {
     "data": {
      "text/plain": [
       "True"
      ]
     },
     "execution_count": 13,
     "metadata": {},
     "output_type": "execute_result"
    }
   ],
   "source": [
    "torch.cuda.is_available()"
   ]
  },
  {
   "cell_type": "code",
   "execution_count": 14,
   "metadata": {},
   "outputs": [
    {
     "data": {
      "text/plain": [
       "2"
      ]
     },
     "execution_count": 14,
     "metadata": {},
     "output_type": "execute_result"
    }
   ],
   "source": [
    "torch.cuda.device_count()"
   ]
  },
  {
   "cell_type": "code",
   "execution_count": 15,
   "metadata": {},
   "outputs": [
    {
     "data": {
      "text/plain": [
       "0"
      ]
     },
     "execution_count": 15,
     "metadata": {},
     "output_type": "execute_result"
    }
   ],
   "source": [
    "torch.cuda.current_device()"
   ]
  },
  {
   "cell_type": "code",
   "execution_count": 16,
   "metadata": {},
   "outputs": [
    {
     "data": {
      "text/plain": [
       "'Tesla V100-PCIE-16GB'"
      ]
     },
     "execution_count": 16,
     "metadata": {},
     "output_type": "execute_result"
    }
   ],
   "source": [
    "torch.cuda.get_device_name(0)"
   ]
  },
  {
   "cell_type": "code",
   "execution_count": 17,
   "metadata": {},
   "outputs": [
    {
     "data": {
      "text/plain": [
       "'Tesla V100-PCIE-16GB'"
      ]
     },
     "execution_count": 17,
     "metadata": {},
     "output_type": "execute_result"
    }
   ],
   "source": [
    "torch.cuda.get_device_name(1)"
   ]
  }
 ],
 "metadata": {
  "kernelspec": {
   "display_name": "Python [conda env:pytorch]",
   "language": "python",
   "name": "conda-env-pytorch-py"
  },
  "language_info": {
   "codemirror_mode": {
    "name": "ipython",
    "version": 3
   },
   "file_extension": ".py",
   "mimetype": "text/x-python",
   "name": "python",
   "nbconvert_exporter": "python",
   "pygments_lexer": "ipython3",
   "version": "3.6.2"
  }
 },
 "nbformat": 4,
 "nbformat_minor": 2
}
